{
 "cells": [
  {
   "cell_type": "markdown",
   "metadata": {},
   "source": [
    "# Set Options"
   ]
  },
  {
   "cell_type": "code",
   "execution_count": null,
   "metadata": {},
   "outputs": [],
   "source": [
    "### Set options here\n",
    "#Structural options\n",
    "market = 'FullYear' #Choose from ['Balancing', 'DayAhead', 'FullYear', 'Investment']\n",
    "SCENARIO = 'all' #Add scenario to read file name\n",
    "YEAR = 'full' #Add year to read file name (e.g. '2025', '2035', 'full')\n",
    "SUBSET = 'full'\n",
    "year = 2045 #Year to be displayed\n",
    "LINES = 'CongestionFlow' #Choose from: ['Capacity', 'Flow', 'CongestionFlow']. For 'CongestionFlow', exo_end automatically switches to 'Total'.\n",
    "exo_end = 'Total' # Choose from ['Endogenous', 'Exogenous', 'Total']. For 'CongestionFlow', exo_end automatically switches to 'Total'.\n",
    "S = 'S12' #Season \n",
    "T = 'T103' #Hour\n",
    "\n",
    "\n",
    "#Visual options\n",
    "label_min = 0 #Minimum transmission capacity (GW) shown on map in text\n",
    "font_line = 10 #Font size of transmission line labels\n",
    "font_hub = 8 #Font size of hub labels\n",
    "font_region = 12 #Font size of region labels\n",
    "line_decimals = 1 #Number of decimals shown for line capacities\n",
    "hub_decimals = 0 #Number of decimals shown for hub capacities\n",
    "\n",
    "#Colours\n",
    "background_colour = 'white'\n",
    "regions_ext_colour = 'lightgrey'\n",
    "regions_model_colour = 'grey'\n",
    "region_text = 'black'\n",
    "capline_colour = 'orange'\n",
    "flowline_colour = ['#74c476','#feb24c','#a50f15'] #NB: Change legend colours accordingly, in the cell under \"Add Legend\": lines 43-45\n",
    "flowline_breaks = [0, 50, 94.999, 100]\n",
    "line_text = 'black'\n",
    "hub_display = True\n",
    "hub_colour = 'lightblue'\n",
    "hub_text = 'black'"
   ]
  },
  {
   "cell_type": "markdown",
   "metadata": {},
   "source": [
    "# Import Packages"
   ]
  },
  {
   "cell_type": "code",
   "execution_count": null,
   "metadata": {},
   "outputs": [],
   "source": [
    "from pathlib import Path\n",
    "import sys\n",
    "import os\n",
    "import pandas as pd\n",
    "import numpy as np\n",
    "import folium\n",
    "from folium import plugins\n",
    "from IPython.display import HTML, display\n",
    "import json\n",
    "from folium.features import DivIcon #For text labels on hubs\n",
    "from IPython.display import display, HTML\n",
    "from csv import reader\n",
    "display(HTML(data=\"\"\"\n",
    "<style>\n",
    "    div#notebook-container    { width: 95%; }\n",
    "    div#menubar-container     { width: 65%; }\n",
    "    div#maintoolbar-container { width: 99%; }\n",
    "</style>\n",
    "\"\"\"))"
   ]
  },
  {
   "cell_type": "markdown",
   "metadata": {},
   "source": [
    "# Import Files"
   ]
  },
  {
   "cell_type": "code",
   "execution_count": null,
   "metadata": {},
   "outputs": [],
   "source": [
    "#Set file names\n",
    "project_dir = Path('./input')\n",
    "map_name = 'Transmission_' + LINES + '_' + str(year) + '_Map.html'\n",
    "flow_file = 'FlowElectricityHourly_'+ SCENARIO + '_' + YEAR + '_' + SUBSET + '.csv'\n",
    "transcap_file = 'CapacityPowerTransmission_'+ SCENARIO + '_' + YEAR + '_'+ SUBSET + '.csv'\n",
    "generation_file = 'CapacityGeneration_'+ SCENARIO + '_' + YEAR + '_' + SUBSET + '.csv'\n",
    "\n",
    "#Load regions files \n",
    "df_unique = pd.read_csv(project_dir/'transmission_files/coordinates_RRR.csv')\n",
    "df_region = df_unique.loc[df_unique['Type'] == 'region', ]\n",
    "regions_model_layer = f'{project_dir}/transmission_files/regions.geojson' #Polygons of modelled countries\n",
    "regions_ext_layer = f'{project_dir}/transmission_files/countries_outside_model.geojson' #Polygons of neighbouring countries\n",
    "\n",
    "#Transmission capacity data\n",
    "df_capacity = pd.read_csv(str(project_dir) + '/results/' + str(market) + '/' + str(transcap_file), sep = ',', quotechar = '\"') \n",
    "#Transmission flow data\n",
    "df_flow = pd.read_csv(str(project_dir) + '/results/' + str(market) + '/' + str(flow_file), sep = ',', quotechar = '\"')\n",
    "#Generation capacity data\n",
    "df_capgen = pd.read_csv(str(project_dir) + '/results/' + str(market) + '/' + str(generation_file), sep = ',', quotechar = '\"') "
   ]
  },
  {
   "cell_type": "markdown",
   "metadata": {},
   "source": [
    "# Replace \"EPS\" with 0"
   ]
  },
  {
   "cell_type": "code",
   "execution_count": null,
   "metadata": {},
   "outputs": [],
   "source": [
    "#Replace possible \"Eps\" with 0\n",
    "df_capacity.Val=df_capacity.Val.replace('Eps', 0)\n",
    "df_capacity.Val=pd.to_numeric(df_capacity.Val)\n",
    "df_flow.Val=df_flow.Val.replace('Eps', 0)\n",
    "df_flow.Val=pd.to_numeric(df_flow.Val)\n",
    "df_capgen.Val=df_capgen.Val.replace('Eps', 0)\n",
    "df_capgen.Val=pd.to_numeric(df_capgen.Val)"
   ]
  },
  {
   "cell_type": "markdown",
   "metadata": {},
   "source": [
    "# Add Coordinates + Select Time + Convert Units"
   ]
  },
  {
   "cell_type": "code",
   "execution_count": null,
   "metadata": {},
   "outputs": [],
   "source": [
    "#Flows\n",
    "if LINES == 'Flow' or LINES == 'CongestionFlow': #Skip this cell in case LINES == 'Capacity'\n",
    "    #Keep only data from moment of interest\n",
    "    df_flow = df_flow.loc[df_flow['Y'] == year] \n",
    "    df_flow = df_flow.loc[df_flow['SSS'] == S,]\n",
    "    df_flow = df_flow.loc[df_flow['TTT'] == T, ]\n",
    "    for i,row in df_flow.iterrows():\n",
    "        for j in range(0,len(df_unique)):\n",
    "            if df_flow.loc[i,'IRRRE'] == df_unique.loc[j, 'RRR']:\n",
    "                df_flow.loc[i,'LatExp'] = df_unique.loc[j, 'Lat']\n",
    "                df_flow.loc[i,'LonExp'] = df_unique.loc[j, 'Lon']\n",
    "            if df_flow.loc[i,'IRRRI'] == df_unique.loc[j, 'RRR']:\n",
    "                df_flow.loc[i,'LatImp'] = df_unique.loc[j, 'Lat']\n",
    "                df_flow.loc[i,'LonImp'] = df_unique.loc[j, 'Lon']\n",
    "\n",
    "    #Convert flow from MWh to GWh\n",
    "    df_flow['Val'] = df_flow['Val'] / 1000\n",
    "    df_flow = df_flow.reset_index(drop = True)\n",
    "    if len(df_flow) == 0:\n",
    "        print(\"Error: Timestep not in data; check year, S and T.\")\n",
    "        sys.exit()"
   ]
  },
  {
   "cell_type": "code",
   "execution_count": null,
   "metadata": {},
   "outputs": [],
   "source": [
    "#Generation Capacities\n",
    "df_capgen = df_capgen.merge(df_unique, on = 'RRR', how = 'left', left_index = True).reset_index(drop = True) #Add coordinates of each region\n",
    "df_capgen = df_capgen.loc[df_capgen['Y'] == year] #Keep only data from year of interest\n",
    "df_hubgen = df_capgen.loc[df_capgen['Type']== 'hub',] #Keep only hub data \n",
    "df_hubgen_agg = pd.DataFrame(df_hubgen.groupby(['Y', 'C', 'RRR', 'Lat', 'Lon'])['Val'].sum().reset_index()) #Sum all capacities (of different wind turbines) at each location"
   ]
  },
  {
   "cell_type": "code",
   "execution_count": null,
   "metadata": {},
   "outputs": [],
   "source": [
    "#Transmission Capacities\n",
    "if LINES == 'Capacity' or LINES == 'CongestionFlow': #Skip this cell in case LINES == 'Flow'\n",
    "    df_capacity = df_capacity.loc[df_capacity['Y'] == year, ].reset_index(drop = True) #Keep only data from year of interest\n",
    "\n",
    "    if exo_end == 'Total' or LINES == 'CongestionFlow':\n",
    "        col_keep = list(np.delete(np.array(df_capacity.columns),np.where((df_capacity.columns == 'VARIABLE_CATEGORY') | \\\n",
    "                                    (df_capacity.columns == 'Val')) )) #Create list with all columns except 'Variable_Category' and 'Val'\n",
    "        df_capacity = pd.DataFrame(df_capacity.groupby(col_keep)['Val'].sum().reset_index() )#Sum exogenous and endogenous capacity for each region\n",
    "    if exo_end == 'Endogenous' and LINES != 'CongestionFlow':\n",
    "        df_capacity = df_capacity.loc[df_capacity['VARIABLE_CATEGORY'] == 'ENDOGENOUS', ]\n",
    "    if exo_end == 'Exogenous' and LINES != 'CongestionFlow':\n",
    "        df_capacity = df_capacity.loc[df_capacity['VARIABLE_CATEGORY'] == 'EXOGENOUS', ]\n",
    "\n",
    "    for i,row in df_capacity.iterrows():\n",
    "        for j in range(0,len(df_unique)):\n",
    "            if df_capacity.loc[i,'IRRRE'] == df_unique.loc[j, 'RRR']:\n",
    "                df_capacity.loc[i,'LatExp'] = df_unique.loc[j, 'Lat']\n",
    "                df_capacity.loc[i,'LonExp'] = df_unique.loc[j, 'Lon']\n",
    "            if df_capacity.loc[i,'IRRRI'] == df_unique.loc[j, 'RRR']:\n",
    "                df_capacity.loc[i,'LatImp'] = df_unique.loc[j, 'Lat']\n",
    "                df_capacity.loc[i,'LonImp'] = df_unique.loc[j, 'Lon']\n",
    "    if len(df_capacity) == 0:\n",
    "        print(\"Error: No capacity found. Check year and exo_end.\")\n",
    "        sys.exit()"
   ]
  },
  {
   "cell_type": "markdown",
   "metadata": {},
   "source": [
    "# Calculate Congestion"
   ]
  },
  {
   "cell_type": "code",
   "execution_count": null,
   "metadata": {
    "scrolled": false
   },
   "outputs": [],
   "source": [
    "if LINES == 'CongestionFlow': #Skip this cell in case LINES != 'CongestionFlow'\n",
    "    df_flow = pd.merge(df_flow, df_capacity[['Y', 'C', 'IRRRE', 'IRRRI', 'Val']], on = ['Y', 'C', 'IRRRE', 'IRRRI'], how = 'left')\n",
    "    df_flow.rename(columns={'Val_x': 'Val', 'Val_y' : 'Capacity'}, inplace = True)\n",
    "    df_flow['Congestion'] = df_flow['Val'] / df_flow['Capacity'] * 100\n",
    "\n",
    "    #Create colour codes for congestion of lines\n",
    "    df_flow['Colour'] = pd.cut(df_flow['Congestion'], bins = flowline_breaks, labels = flowline_colour )"
   ]
  },
  {
   "cell_type": "markdown",
   "metadata": {},
   "source": [
    "# Create Map Features"
   ]
  },
  {
   "cell_type": "code",
   "execution_count": null,
   "metadata": {},
   "outputs": [],
   "source": [
    "#When capacity is not the same in both directions, display one:\n",
    "for i,row in df_capacity.iterrows():\n",
    "    for k,row in df_capacity.iterrows():\n",
    "        if (df_capacity.loc[k,'IRRRE'] == df_capacity.loc[i,'IRRRI']) & (df_capacity.loc[k,'IRRRI'] == df_capacity.loc[i,'IRRRE']) & (df_capacity.loc[k,'Val'] != df_capacity.loc[i,'Val']):\n",
    "            df_capacity.loc[i,'Val'] = df_capacity.loc[k,'Val']"
   ]
  },
  {
   "cell_type": "code",
   "execution_count": null,
   "metadata": {},
   "outputs": [],
   "source": [
    "#Create column that is used as hub display size on the map\n",
    "if len(df_hubgen_agg) == 0:\n",
    "    df_hubgen_agg['Map_size'] = 0\n",
    "else: df_hubgen_agg['Map_size'] = df_hubgen_agg['Val'] / min(df_hubgen_agg['Val']) + 5"
   ]
  },
  {
   "cell_type": "code",
   "execution_count": null,
   "metadata": {},
   "outputs": [],
   "source": [
    "#Define centre of each transmission line\n",
    "if LINES == 'Flow' or LINES == 'CongestionFlow': #Skip this cell in case LINES == 'Capacity'\n",
    "    df_flow['LatMid'] = (df_flow['LatImp'] + df_flow['LatExp']) /2\n",
    "    df_flow['LonMid'] = (df_flow['LonImp'] + df_flow['LonExp']) /2\n",
    "if LINES == 'Capacity' or LINES == 'CongestionFlow': #Skip this cell in case LINES == 'Flow'\n",
    "    df_capacity['LatMid'] = (df_capacity['LatImp'] + df_capacity['LatExp']) /2\n",
    "    df_capacity['LonMid'] = (df_capacity['LonImp'] + df_capacity['LonExp']) /2"
   ]
  },
  {
   "cell_type": "code",
   "execution_count": null,
   "metadata": {},
   "outputs": [],
   "source": [
    "#Create map \n",
    "map_center = [55.220228, 10.419778]\n",
    "m = folium.Map(location= map_center, zoom_start=5, tiles='')\n",
    "#Add background layers (sea, regions in model, countries outside of model)\n",
    "folium.Polygon(locations = [[-90,-180], [90,-180], [90,180], [-90,180]], color = background_colour, fill_color = background_colour, opacity = 1, fill_opacity = 1 ).add_to(m) #Background\n",
    "folium.GeoJson(data = regions_model_layer, name = 'regions', \\\n",
    "               style_function = lambda x:{'fillColor': regions_model_colour, 'fillOpacity': 0.5, 'color': regions_model_colour, 'weight':1}).add_to(m) #Regions within model\n",
    "folium.GeoJson(data = regions_ext_layer, name = 'x', \\\n",
    "               style_function = lambda x:{'fillColor': regions_ext_colour, 'fillOpacity': 0.5, 'color': regions_ext_colour, 'weight':1}).add_to(m) #Neighbouring countries"
   ]
  },
  {
   "cell_type": "code",
   "execution_count": null,
   "metadata": {},
   "outputs": [],
   "source": [
    "#Add capacity lines\n",
    "if LINES == 'Capacity':\n",
    "    for i,row in df_capacity.iterrows():\n",
    "        folium.PolyLine(([df_capacity.loc[i,'LatExp'], df_capacity.loc[i,'LonExp']], \\\n",
    "                             [df_capacity.loc[i,'LatImp'],df_capacity.loc[i,'LonImp']]), \\\n",
    "                            color=capline_colour, line_cap = 'butt', weight=df_capacity.loc[i,'Val']/5, opacity=1).add_to(m)  \n",
    "        if df_capacity.loc[i,'Val'] > label_min:\n",
    "            if line_decimals == 0:\n",
    "                folium.Marker(location=[df_capacity.loc[i,'LatMid'], df_capacity.loc[i,'LonMid']],\n",
    "                          icon=DivIcon(\n",
    "                              icon_size=(150,36), \n",
    "                                       icon_anchor=(11,7),\n",
    "                     html='<div style=\"font-size: {}pt; color : {}\">{}</div>'.format(font_line, line_text, df_capacity.loc[i,'Val'].round(line_decimals).astype(int)))).add_to(m)\n",
    "            else: \n",
    "                folium.Marker(location=[df_capacity.loc[i,'LatMid'], df_capacity.loc[i,'LonMid']],\n",
    "                          icon=DivIcon(\n",
    "                              icon_size=(150,36), \n",
    "                                       icon_anchor=(11,7),\n",
    "                     html='<div style=\"font-size: {}pt; color : {}\">{}</div>'.format(font_line, line_text, round(df_capacity.loc[i,'Val'],line_decimals)))).add_to(m)\n",
    "#Add flows (single colour)                \n",
    "if LINES == 'Flow':\n",
    "    attr = {'font-weight': 'bold', 'font-size': '24'}\n",
    "    for i,row in df_flow.iterrows():\n",
    "        flow = folium.PolyLine(([df_flow.loc[i,'LatExp'], df_flow.loc[i,'LonExp']], \\\n",
    "                             [df_flow.loc[i,'LatImp'],df_flow.loc[i,'LonImp']]), \\\n",
    "                            color=capline_colour, line_cap = 'butt', weight=df_flow.loc[i,'Val']/5, opacity=1).add_to(m)   \n",
    "        plugins.PolyLineTextPath(flow, '\\u2192', repeat=False ,center = True, offset=6, orientation = -90, attributes=attr).add_to(m)  #Arrow\n",
    "        if df_flow.loc[i,'Val'] > label_min:\n",
    "            if line_decimals == 0:\n",
    "                folium.Marker(location=[df_flow.loc[i,'LatMid'], df_flow.loc[i,'LonMid']],\n",
    "                          icon=DivIcon(\n",
    "                              icon_size=(150,36), \n",
    "                                       icon_anchor=(11,7),\n",
    "                     html='<div style=\"font-size: {}pt; color : {}\">{}</div>'.format(font_line, line_text, df_flow.loc[i,'Val'].round(line_decimals).astype(int)))).add_to(m)\n",
    "            else: \n",
    "                folium.Marker(location=[df_flow.loc[i,'LatMid'], df_flow.loc[i,'LonMid']],\n",
    "                          icon=DivIcon(\n",
    "                              icon_size=(150,36), \n",
    "                                       icon_anchor=(11,7),\n",
    "                     html='<div style=\"font-size: {}pt; color : {}\">{}</div>'.format(font_line, line_text, round(df_flow.loc[i,'Val'],line_decimals)))).add_to(m)    \n",
    "#Add flows (colour based on congestion)\n",
    "if LINES == 'CongestionFlow':\n",
    "    attr = {'font-weight': 'bold', 'font-size': '24'}\n",
    "    for i,row in df_flow.iterrows():\n",
    "        flow = folium.PolyLine(([df_flow.loc[i,'LatExp'], df_flow.loc[i,'LonExp']], \\\n",
    "                             [df_flow.loc[i,'LatImp'],df_flow.loc[i,'LonImp']]), \\\n",
    "                            color=df_flow.loc[i,'Colour'], line_cap = 'butt', weight=df_flow.loc[i,'Val']/5, opacity=1).add_to(m)   \n",
    "        plugins.PolyLineTextPath(flow, '\\u2192', repeat=False ,center = True, offset=6, orientation = -90, attributes=attr).add_to(m)  #Arrow\n",
    "        if df_flow.loc[i,'Val'] > label_min:\n",
    "            if line_decimals == 0:\n",
    "                folium.Marker(location=[df_flow.loc[i,'LatMid'], df_flow.loc[i,'LonMid']],\n",
    "                          icon=DivIcon(\n",
    "                              icon_size=(150,36), \n",
    "                                       icon_anchor=(11,7),\n",
    "                     html='<div style=\"font-size: {}pt; color : {}\">{}</div>'.format(font_line, line_text, df_flow.loc[i,'Val'].round(line_decimals).astype(int)))).add_to(m)\n",
    "            else: \n",
    "                folium.Marker(location=[df_flow.loc[i,'LatMid'], df_flow.loc[i,'LonMid']],\n",
    "                          icon=DivIcon(\n",
    "                              icon_size=(150,36), \n",
    "                                       icon_anchor=(11,7),\n",
    "                     html='<div style=\"font-size: {}pt; color : {}\">{}</div>'.format(font_line, line_text, round(df_flow.loc[i,'Val'],line_decimals)))).add_to(m)    "
   ]
  },
  {
   "cell_type": "code",
   "execution_count": null,
   "metadata": {},
   "outputs": [],
   "source": [
    "#Add region names\n",
    "for i,row in df_region.iterrows():\n",
    "    folium.Marker(location=[df_region.loc[i,'Lat'], df_region.loc[i,'Lon']],\n",
    "                  icon=DivIcon(\n",
    "                      icon_size=(150,36), \n",
    "                               icon_anchor=(7,7),\n",
    "     html='<div style=\"font-size: {}pt; color : {}\">{}</div>'.format(font_region, region_text, df_region.loc[i,'RRR']))).add_to(m)  "
   ]
  },
  {
   "cell_type": "code",
   "execution_count": null,
   "metadata": {},
   "outputs": [],
   "source": [
    "if hub_display == True:\n",
    "    #Add hub capacities as bubbles\n",
    "    for i,row in df_hubgen_agg.iterrows():\n",
    "        folium.CircleMarker(\n",
    "          location=[df_hubgen_agg.loc[i,'Lat'], df_hubgen_agg.loc[i,'Lon']],\n",
    "          popup=df_hubgen_agg.loc[i,'RRR'],\n",
    "          radius = df_hubgen_agg.loc[i, 'Map_size'],\n",
    "          color= hub_colour,\n",
    "          opacity = 0,\n",
    "          fill=True,\n",
    "          fill_color= hub_colour,\n",
    "          fill_opacity = 1\n",
    "       ).add_to(m)\n",
    "        if hub_decimals == 0:\n",
    "            folium.Marker(location=[df_hubgen_agg.loc[i,'Lat'], df_hubgen_agg.loc[i,'Lon']],\n",
    "                          icon=DivIcon(\n",
    "                              icon_size=(150,36), \n",
    "                                       icon_anchor=(7,7),\n",
    "             html='<div style=\"font-size: {}pt; color : {}\">{}</div>'.format(font_hub, hub_text, df_hubgen_agg.loc[i,'Val'].round(hub_decimals).astype(int)))).add_to(m)\n",
    "        else:\n",
    "            folium.Marker(location=[df_hubgen_agg.loc[i,'Lat'], df_hubgen_agg.loc[i,'Lon']],\n",
    "                          icon=DivIcon(\n",
    "                              icon_size=(150,36), \n",
    "                                       icon_anchor=(7,7),\n",
    "             html='<div style=\"font-size: {}pt; color : {}\">{}</div>'.format(font_hub, hub_text, round(df_hubgen_agg.loc[i,'Val'], hub_decimals)))).add_to(m)      "
   ]
  },
  {
   "cell_type": "markdown",
   "metadata": {},
   "source": [
    "# Add Legend"
   ]
  },
  {
   "cell_type": "code",
   "execution_count": null,
   "metadata": {
    "scrolled": false
   },
   "outputs": [],
   "source": [
    "if LINES == 'CongestionFlow':\n",
    "    from branca.element import Template, MacroElement\n",
    "\n",
    "    template = \"\"\"\n",
    "    {% macro html(this, kwargs) %}\n",
    "\n",
    "    <!doctype html>\n",
    "    <html lang=\"en\">\n",
    "    <head>\n",
    "      <meta charset=\"utf-8\">\n",
    "      <meta name=\"viewport\" content=\"width=device-width, initial-scale=1\">\n",
    "      <title>jQuery UI Draggable - Default functionality</title>\n",
    "      <link rel=\"stylesheet\" href=\"//code.jquery.com/ui/1.12.1/themes/base/jquery-ui.css\">\n",
    "\n",
    "      <script src=\"https://code.jquery.com/jquery-1.12.4.js\"></script>\n",
    "      <script src=\"https://code.jquery.com/ui/1.12.1/jquery-ui.js\"></script>\n",
    "\n",
    "      <script>\n",
    "      $( function() {\n",
    "        $( \"#maplegend\" ).draggable({\n",
    "                        start: function (event, ui) {\n",
    "                            $(this).css({\n",
    "                                right: \"auto\",\n",
    "                                top: \"auto\",\n",
    "                                bottom: \"auto\"\n",
    "                            });\n",
    "                        }\n",
    "                    });\n",
    "    });\n",
    "\n",
    "      </script>\n",
    "    </head>\n",
    "    <body>\n",
    "\n",
    "\n",
    "    <div id='maplegend' class='maplegend' \n",
    "        style='position: absolute; z-index:9999; border:2px solid grey; background-color:rgba(255, 255, 255, 1);\n",
    "         border-radius:6px; padding: 10px; font-size:14px; right: 20px; bottom: 20px;'>\n",
    "\n",
    "    <div class='legend-title'>Congestion rate</div>\n",
    "    <div class='legend-scale'>\n",
    "      <ul class='legend-labels'>\n",
    "        <li><span style='background:#a50f15;opacity:0.7;'></span>Fully congested</li>\n",
    "        <li><span style='background:#feb24c;opacity:0.7;'></span> 50-95% congested </li>\n",
    "        <li><span style='background:#74c476;opacity:0.7;'></span> <50 % congested </li>\n",
    "\n",
    "      </ul>\n",
    "    </div>\n",
    "    </div>\n",
    "\n",
    "    </body>\n",
    "    </html>\n",
    "\n",
    "    <style type='text/css'>\n",
    "      .maplegend .legend-title {\n",
    "        text-align: left;\n",
    "        margin-bottom: 5px;\n",
    "        font-weight: bold;\n",
    "        font-size: 90%;\n",
    "        }\n",
    "      .maplegend .legend-scale ul {\n",
    "        margin: 0;\n",
    "        margin-bottom: 5px;\n",
    "        padding: 0;\n",
    "        float: left;\n",
    "        list-style: none;\n",
    "        }\n",
    "      .maplegend .legend-scale ul li {\n",
    "        font-size: 80%;\n",
    "        list-style: none;\n",
    "        margin-left: 0;\n",
    "        line-height: 18px;\n",
    "        margin-bottom: 2px;\n",
    "        }\n",
    "      .maplegend ul.legend-labels li span {\n",
    "        display: block;\n",
    "        float: left;\n",
    "        height: 16px;\n",
    "        width: 30px;\n",
    "        margin-right: 5px;\n",
    "        margin-left: 0;\n",
    "        border: 1px solid #999;\n",
    "        }\n",
    "      .maplegend .legend-source {\n",
    "        font-size: 80%;\n",
    "        color: #777;\n",
    "        clear: both;\n",
    "        }\n",
    "      .maplegend a {\n",
    "        color: #777;\n",
    "        }\n",
    "    </style>\n",
    "    {% endmacro %}\"\"\"\n",
    "\n",
    "    macro = MacroElement()\n",
    "    macro._template = Template(template)\n",
    "\n",
    "    m.get_root().add_child(macro)"
   ]
  },
  {
   "cell_type": "markdown",
   "metadata": {},
   "source": [
    "# Save Output"
   ]
  },
  {
   "cell_type": "code",
   "execution_count": null,
   "metadata": {},
   "outputs": [],
   "source": [
    "# Make Transmission_Map output folder\n",
    "if not os.path.isdir('output/Transmission_Map/' + LINES + '/' + SCENARIO + '/' + market):\n",
    "    os.makedirs('output/Transmission_Map/' + LINES + '/' + SCENARIO + '/' + market)"
   ]
  },
  {
   "cell_type": "code",
   "execution_count": null,
   "metadata": {},
   "outputs": [],
   "source": [
    "output_dir = 'output/Transmission_Map/' + LINES + '/' + SCENARIO + '/' + market\n",
    "m.save(output_dir + '/' +  map_name)"
   ]
  },
  {
   "cell_type": "markdown",
   "metadata": {},
   "source": [
    "# Display Map"
   ]
  },
  {
   "cell_type": "code",
   "execution_count": null,
   "metadata": {},
   "outputs": [],
   "source": [
    "m"
   ]
  },
  {
   "cell_type": "code",
   "execution_count": null,
   "metadata": {},
   "outputs": [],
   "source": []
  }
 ],
 "metadata": {
  "kernelspec": {
   "display_name": "Python 3",
   "language": "python",
   "name": "python3"
  },
  "language_info": {
   "codemirror_mode": {
    "name": "ipython",
    "version": 3
   },
   "file_extension": ".py",
   "mimetype": "text/x-python",
   "name": "python",
   "nbconvert_exporter": "python",
   "pygments_lexer": "ipython3",
   "version": "3.7.1"
  }
 },
 "nbformat": 4,
 "nbformat_minor": 2
}
