{
 "cells": [
  {
   "cell_type": "markdown",
   "metadata": {},
   "source": [
    "# 1 Preparations"
   ]
  },
  {
   "cell_type": "markdown",
   "metadata": {},
   "source": [
    "### 1.1 Set Options"
   ]
  },
  {
   "cell_type": "code",
   "execution_count": null,
   "metadata": {},
   "outputs": [],
   "source": [
    "### Set options here\n",
    "#Structural options\n",
    "market = 'FullYear' #Choose from ['Balancing', 'DayAhead', 'FullYear', 'Investment']\n",
    "SCENARIO = 'all' #Add scenario to read file name\n",
    "YEAR = 'full' #Add year to read file name (e.g. '2025', '2035', 'full')\n",
    "SUBSET = 'full'\n",
    "year = 2045 #Year to be displayed\n",
    "LINES = 'CongestionFlow' #Choose from: ['Capacity', 'Flow', 'CongestionFlow']. For 'CongestionFlow', exo_end automatically switches to 'Total'.\n",
    "exo_end = 'Total' # Choose from ['Endogenous', 'Exogenous', 'Total']. For 'CongestionFlow', exo_end automatically switches to 'Total'.\n",
    "S = 'S38' #Season \n",
    "T = 'T088' #Hour\n",
    "\n",
    "#Visual options\n",
    "label_min = 0 #Minimum transmission capacity (GW) shown on map in text\n",
    "font_line = 10 #Font size of transmission line labels\n",
    "font_hub = 10 #Font size of hub labels\n",
    "font_region = 12 #Font size of region labels\n",
    "line_decimals = 1 #Number of decimals shown for line capacities\n",
    "line_width_constant = 5 #Constant related to thickness of lines: the higher the number, the narrower the lines will be\n",
    "flowline_breaks = [0, 50, 94.999, 100] #Breaks for different congestion categories\n",
    "hub_display = True\n",
    "hub_size = 10\n",
    "hub_decimals = 0 #Number of decimals shown for hub capacities\n",
    "background_hubsize = True #Displaying the true size of the hub as a circle on the map.\n",
    "hub_area = 6.4 #MW / km^2, background hub size on map. \n",
    "hub_area_opacity = 0.3 #Opacity of background hub size. \n",
    "\n",
    "\n",
    "#Colours\n",
    "background_colour = 'white'\n",
    "regions_ext_colour = 'lightgrey'\n",
    "regions_model_colour = 'grey'\n",
    "region_text = 'black'\n",
    "capline_colour = 'orange'\n",
    "flowline_colour = ['#3D9200', '#feb24c','#960028'] #NB: Change legend colours accordingly, in the cell under \"3.6 Add Legend\": lines 43-45\n",
    "line_text = 'black'\n",
    "hub_colour = 'lightblue'\n",
    "hub_background_colour = 'lightblue'\n",
    "hub_text = 'black'"
   ]
  },
  {
   "cell_type": "markdown",
   "metadata": {},
   "source": [
    "### 1.2 Import Packages"
   ]
  },
  {
   "cell_type": "code",
   "execution_count": null,
   "metadata": {
    "jupyter": {
     "source_hidden": true
    }
   },
   "outputs": [],
   "source": [
    "from pathlib import Path\n",
    "import sys\n",
    "import os\n",
    "import glob\n",
    "import pandas as pd\n",
    "import numpy as np\n",
    "import geopandas as gpd\n",
    "import folium\n",
    "from folium import plugins\n",
    "from IPython.display import HTML, display\n",
    "import json\n",
    "from folium.features import DivIcon #For text labels on hubs\n",
    "from IPython.display import display, HTML\n",
    "from csv import reader\n",
    "display(HTML(data=\"\"\"\n",
    "<style>\n",
    "    div#notebook-container    { width: 95%; }\n",
    "    div#menubar-container     { width: 65%; }\n",
    "    div#maintoolbar-container { width: 99%; }\n",
    "</style>\n",
    "\"\"\"))"
   ]
  },
  {
   "cell_type": "markdown",
   "metadata": {},
   "source": [
    "### 1.3 Import Files"
   ]
  },
  {
   "cell_type": "code",
   "execution_count": null,
   "metadata": {
    "jupyter": {
     "source_hidden": true
    }
   },
   "outputs": [],
   "source": [
    "#Set file names\n",
    "project_dir = Path('./input')\n",
    "map_name = 'Transmission_' + LINES + '_' + str(year) + '_Map.html'\n",
    "flow_file = 'FlowElectricityHourly_'+ SCENARIO + '_' + YEAR + '_' + SUBSET + '.csv'\n",
    "transcap_file = 'CapacityPowerTransmission_'+ SCENARIO + '_' + YEAR + '_'+ SUBSET + '.csv'\n",
    "generation_file = 'CapacityGeneration_'+ SCENARIO + '_' + YEAR + '_' + SUBSET + '.csv'\n",
    "prod_file = 'ProductionHourly_'+ SCENARIO + '_' + YEAR + '_' + SUBSET + '.csv'\n",
    "\n",
    "\n",
    "#Load coordinates files \n",
    "df_unique = pd.read_csv(project_dir/'transmission_files/coordinates_RRR.csv')\n",
    "df_region = df_unique.loc[df_unique['Type'] == 'region', ]\n",
    "df_bypass = pd.read_csv(project_dir/'transmission_files/bypass_lines.csv') # coordinates of 'hooks' in indirect lines, to avoid going trespassing third regions\n",
    "\n",
    "\n",
    "#Transmission capacity data\n",
    "df_capacity = pd.read_csv(str(project_dir) + '/results/' + str(market) + '/' + str(transcap_file), sep = ',', quotechar = '\"') \n",
    "#Transmission flow data\n",
    "df_flow = pd.read_csv(str(project_dir) + '/results/' + str(market) + '/' + str(flow_file), sep = ',', quotechar = '\"')\n",
    "#Generation capacity data\n",
    "df_capgen = pd.read_csv(str(project_dir) + '/results/' + str(market) + '/' + str(generation_file), sep = ',', quotechar = '\"') \n",
    "#Hub production data\n",
    "hub_windgen = (pd.read_csv(project_dir/'transmission_files/hub_names.csv', sep = ',', quotechar = '\"').hub_name) \n",
    "df_hubprod = pd.read_csv(str(project_dir) + '/results/' + str(market) + '/' + str(prod_file), sep = ',', quotechar = '\"') \n",
    "df_hubprod = df_hubprod.loc[(df_hubprod['G'].isin(hub_windgen)) & (df_hubprod['TECH_TYPE'] == 'WIND-OFF') & \\\n",
    "                            (df_hubprod['Y']==year) & (df_hubprod['SSS'] == S) & (df_hubprod['TTT']==T), ]\n",
    "\n",
    "#Define names of geojson and shapefile layers\n",
    "r_in = list(df_unique.loc[(df_unique['Display'] == 1) & (df_unique['Type'] == 'region'), 'RRR'])\n",
    "r_out = list(df_unique.loc[(df_unique['Display'] == 0) & (df_unique['Type'] == 'region'), 'RRR'])\n",
    "\n",
    "layers_in = {region: '' for region in r_in}\n",
    "layers_out = {region: '' for region in r_out}\n",
    "\n",
    "#Create dictionaries with layer names for each region; if both a shapefile and geojson file are available for one region, the geojson file is used. \n",
    "for region in r_in:\n",
    "    layers_in[region] = glob.glob(f'{project_dir}/transmission_files/geojson_files/'+ region + '.geojson')\n",
    "    if bool(layers_in[region]) == False:\n",
    "        layers_in[region] = glob.glob(f'{project_dir}/transmission_files/shapefiles/'+ region + '.shp')\n",
    "for region in r_out:\n",
    "    layers_out[region] = glob.glob(f'{project_dir}/transmission_files/geojson_files/'+ region + '.geojson')\n",
    "    if bool(layers_out[region]) == False:\n",
    "        layers_out[region] = glob.glob(f'{project_dir}/transmission_files/shapefiles/'+ region + '.shp')\n",
    "\n",
    "for region in layers_in:\n",
    "    layers_in[region] = str(layers_in[region])[2:-2] #Remove brackets from file names\n",
    "for region in layers_out:\n",
    "    layers_out[region] = str(layers_out[region])[2:-2] #Remove brackets from file names\n"
   ]
  },
  {
   "cell_type": "code",
   "execution_count": null,
   "metadata": {
    "jupyter": {
     "source_hidden": true
    }
   },
   "outputs": [],
   "source": [
    "for region in layers_out:\n",
    "    if layers_out[region][-4:] == '.shp':\n",
    "        gpd.read_file(layers_out[region]).to_file(f'{project_dir}/transmission_files/geojson_files/'+ region + '.geojson', driver='GeoJSON')\n",
    "        layers_out[region] = layers_out[region].replace('shapefiles', 'geojson_files').replace('.shp', '.geojson')"
   ]
  },
  {
   "cell_type": "markdown",
   "metadata": {},
   "source": [
    "# 2 Processing of dataframes"
   ]
  },
  {
   "cell_type": "markdown",
   "metadata": {},
   "source": [
    "### 2.1 Replace \"EPS\" with 0"
   ]
  },
  {
   "cell_type": "code",
   "execution_count": null,
   "metadata": {
    "jupyter": {
     "source_hidden": true
    }
   },
   "outputs": [],
   "source": [
    "#Replace possible \"Eps\" with 0\n",
    "df_capacity.Val=df_capacity.Val.replace('Eps', 0)\n",
    "df_capacity.Val=pd.to_numeric(df_capacity.Val)\n",
    "df_flow.Val=df_flow.Val.replace('Eps', 0)\n",
    "df_flow.Val=pd.to_numeric(df_flow.Val)\n",
    "df_capgen.Val=df_capgen.Val.replace('Eps', 0)\n",
    "df_capgen.Val=pd.to_numeric(df_capgen.Val)\n",
    "df_hubprod.Val=df_hubprod.Val.replace('Eps', 0)\n",
    "df_hubprod.Val=pd.to_numeric(df_hubprod.Val)"
   ]
  },
  {
   "cell_type": "markdown",
   "metadata": {},
   "source": [
    "### 2.2 Add Coordinates + Select Time + Convert Units"
   ]
  },
  {
   "cell_type": "code",
   "execution_count": null,
   "metadata": {
    "jupyter": {
     "source_hidden": true
    }
   },
   "outputs": [],
   "source": [
    "#Flows\n",
    "if LINES == 'Flow' or LINES == 'CongestionFlow': #Skip this cell in case LINES == 'Capacity'\n",
    "    #Keep only data from moment of interest\n",
    "    df_flow = df_flow.loc[df_flow['Y'] == year] \n",
    "    df_flow = df_flow.loc[df_flow['SSS'] == S,]\n",
    "    df_flow = df_flow.loc[df_flow['TTT'] == T, ]\n",
    "    for i,row in df_flow.iterrows():\n",
    "        for j in range(0,len(df_unique)):\n",
    "            if df_flow.loc[i,'IRRRE'] == df_unique.loc[j, 'RRR']:\n",
    "                df_flow.loc[i,'LatExp'] = df_unique.loc[j, 'Lat']\n",
    "                df_flow.loc[i,'LonExp'] = df_unique.loc[j, 'Lon']\n",
    "            if df_flow.loc[i,'IRRRI'] == df_unique.loc[j, 'RRR']:\n",
    "                df_flow.loc[i,'LatImp'] = df_unique.loc[j, 'Lat']\n",
    "                df_flow.loc[i,'LonImp'] = df_unique.loc[j, 'Lon']\n",
    "\n",
    "    #Convert flow from MWh to GWh\n",
    "    df_flow['Val'] = df_flow['Val'] / 1000\n",
    "    df_flow = df_flow.reset_index(drop = True)\n",
    "    if len(df_flow) == 0:\n",
    "        print(\"Error: Timestep not in data; check year, S and T.\")\n",
    "        sys.exit()"
   ]
  },
  {
   "cell_type": "markdown",
   "metadata": {},
   "source": [
    "### 2.3 Group hub data"
   ]
  },
  {
   "cell_type": "code",
   "execution_count": null,
   "metadata": {
    "jupyter": {
     "source_hidden": true
    }
   },
   "outputs": [],
   "source": [
    "#Generation Capacities\n",
    "df_capgen = df_capgen.merge(df_unique, on = 'RRR', how = 'left', left_index = True).reset_index(drop = True) #Add coordinates of each region\n",
    "df_capgen = df_capgen.loc[df_capgen['Y'] == year] #Keep only data from year of interest\n",
    "df_hubcap = df_capgen.loc[df_capgen['G'].isin(hub_windgen),] #Keep only hub data \n",
    "df_hubcap_agg = pd.DataFrame(df_hubcap.groupby(['Y', 'C', 'RRR', 'Lat', 'Lon'])['Val'].sum().reset_index()) #Sum all capacities (of different wind turbines) at each location\n",
    "df_hubcap_agg['Radius'] = np.sqrt(df_hubcap_agg['Val'] * 1000 / hub_area / np.pi) # Create column of hub radius (in kilometres)\n",
    "\n",
    "#Merge all relevant hub info into one dataframe\n",
    "df_hubprod = pd.DataFrame(df_hubprod.groupby(['Y', 'C', 'RRR'])['Val'].sum().reset_index()) #Sum all production (of different wind turbines) at each location\n",
    "df_hubprod.Val = df_hubprod.Val/1000\n",
    "df_hubprod.rename(columns = {'Val': 'prod_GWh'}, inplace = True)\n",
    "df_hub = pd.merge(df_hubcap_agg, df_hubprod[['RRR', 'prod_GWh']], on = 'RRR', how = 'left', left_index = True).reset_index(drop = True) "
   ]
  },
  {
   "cell_type": "markdown",
   "metadata": {},
   "source": [
    "### 2.4 Prepare capacity dataframe"
   ]
  },
  {
   "cell_type": "code",
   "execution_count": null,
   "metadata": {
    "jupyter": {
     "source_hidden": true
    }
   },
   "outputs": [],
   "source": [
    "#Transmission Capacities\n",
    "if LINES == 'Capacity' or LINES == 'CongestionFlow': #Skip this cell in case LINES == 'Flow'\n",
    "    df_capacity = df_capacity.loc[df_capacity['Y'] == year, ].reset_index(drop = True) #Keep only data from year of interest\n",
    "\n",
    "    if exo_end == 'Total' or LINES == 'CongestionFlow':\n",
    "        col_keep = list(np.delete(np.array(df_capacity.columns),np.where((df_capacity.columns == 'VARIABLE_CATEGORY') | \\\n",
    "                                    (df_capacity.columns == 'Val')) )) #Create list with all columns except 'Variable_Category' and 'Val'\n",
    "        df_capacity = pd.DataFrame(df_capacity.groupby(col_keep)['Val'].sum().reset_index() )#Sum exogenous and endogenous capacity for each region\n",
    "    if exo_end == 'Endogenous' and LINES != 'CongestionFlow':\n",
    "        df_capacity = df_capacity.loc[df_capacity['VARIABLE_CATEGORY'] == 'ENDOGENOUS', ]\n",
    "    if exo_end == 'Exogenous' and LINES != 'CongestionFlow':\n",
    "        df_capacity = df_capacity.loc[df_capacity['VARIABLE_CATEGORY'] == 'EXOGENOUS', ]\n",
    "\n",
    "    for i,row in df_capacity.iterrows():\n",
    "        for j in range(0,len(df_unique)):\n",
    "            if df_capacity.loc[i,'IRRRE'] == df_unique.loc[j, 'RRR']:\n",
    "                df_capacity.loc[i,'LatExp'] = df_unique.loc[j, 'Lat']\n",
    "                df_capacity.loc[i,'LonExp'] = df_unique.loc[j, 'Lon']\n",
    "            if df_capacity.loc[i,'IRRRI'] == df_unique.loc[j, 'RRR']:\n",
    "                df_capacity.loc[i,'LatImp'] = df_unique.loc[j, 'Lat']\n",
    "                df_capacity.loc[i,'LonImp'] = df_unique.loc[j, 'Lon']\n",
    "    if len(df_capacity) == 0:\n",
    "        print(\"Error: No capacity found. Check year and exo_end.\")\n",
    "        sys.exit()"
   ]
  },
  {
   "cell_type": "markdown",
   "metadata": {},
   "source": [
    "### 2.5 Add bypass coordinates for indirect lines"
   ]
  },
  {
   "cell_type": "code",
   "execution_count": null,
   "metadata": {
    "jupyter": {
     "source_hidden": true
    }
   },
   "outputs": [],
   "source": [
    "if LINES == 'Capacity':\n",
    "    df_bypass = pd.merge(df_bypass, df_capacity[['Y', 'C', 'IRRRE', 'IRRRI', 'UNITS', 'Val']], on = ['IRRRE', 'IRRRI'], how = 'left')\n",
    "    #Replace existing row by 2 bypass rows\n",
    "    keys = list(df_bypass.columns.values)[0:2]\n",
    "    i1 = df_capacity.set_index(keys).index\n",
    "    i2 = df_bypass.set_index(keys).index\n",
    "    df_capacity = df_capacity[~i1.isin(i2)] #Delete existing rows that need bypass\n",
    "    df_capacity = df_capacity.append(df_bypass, ignore_index = True, sort = True) #Append bypass rows\n",
    "    \n",
    "if LINES == 'Flow' or LINES == 'CongestionFlow': #Skip this cell in case LINES == 'Capacity'\n",
    "    df_bypass = pd.merge(df_bypass, df_flow[['Y', 'C', 'IRRRE', 'IRRRI', 'SSS', 'TTT', 'UNITS', 'Val']], on = ['IRRRE', 'IRRRI'], how = 'left').dropna()\n",
    "    #Replace existing row by 2 bypass rows\n",
    "    keys = list(df_bypass.columns.values)[0:2]\n",
    "    i1 = df_flow.set_index(keys).index\n",
    "    i2 = df_bypass.set_index(keys).index\n",
    "    df_flow = df_flow[~i1.isin(i2)]#Delete existing rows that need bypass\n",
    "    df_flow = df_flow.append(df_bypass, ignore_index = True, sort = True)#Append bypass rows"
   ]
  },
  {
   "cell_type": "markdown",
   "metadata": {},
   "source": [
    "### 2.6 Calculate Congestion"
   ]
  },
  {
   "cell_type": "code",
   "execution_count": null,
   "metadata": {
    "jupyter": {
     "source_hidden": true
    }
   },
   "outputs": [],
   "source": [
    "if LINES == 'CongestionFlow': #Skip this cell in case LINES != 'CongestionFlow'\n",
    "    df_flow = pd.merge(df_flow, df_capacity[['Y', 'C', 'IRRRE', 'IRRRI', 'Val']], on = ['Y', 'C', 'IRRRE', 'IRRRI'], how = 'left')\n",
    "    df_flow.rename(columns={'Val_x': 'Val', 'Val_y' : 'Capacity'}, inplace = True)\n",
    "    df_flow['Congestion'] = df_flow['Val'] / df_flow['Capacity'] * 100\n",
    "\n",
    "    #Create colour codes for congestion of lines\n",
    "    df_flow['Colour'] = pd.cut(df_flow['Congestion'], bins = flowline_breaks, labels = flowline_colour )"
   ]
  },
  {
   "cell_type": "markdown",
   "metadata": {},
   "source": [
    "### 2.7 One direction capacity  lines"
   ]
  },
  {
   "cell_type": "code",
   "execution_count": null,
   "metadata": {
    "jupyter": {
     "source_hidden": true
    }
   },
   "outputs": [],
   "source": [
    "#When capacity is not the same in both directions, display one:\n",
    "for i,row in df_capacity.iterrows():\n",
    "    for k,row in df_capacity.iterrows():\n",
    "        if (df_capacity.loc[k,'IRRRE'] == df_capacity.loc[i,'IRRRI']) & (df_capacity.loc[k,'IRRRI'] == df_capacity.loc[i,'IRRRE']) & (df_capacity.loc[k,'Val'] != df_capacity.loc[i,'Val']):\n",
    "            df_capacity.loc[i,'Val'] = df_capacity.loc[k,'Val']"
   ]
  },
  {
   "cell_type": "markdown",
   "metadata": {},
   "source": [
    "###  2.8 Define line centers"
   ]
  },
  {
   "cell_type": "code",
   "execution_count": null,
   "metadata": {
    "jupyter": {
     "source_hidden": true
    }
   },
   "outputs": [],
   "source": [
    "#Define centre of each transmission line\n",
    "if LINES == 'Flow' or LINES == 'CongestionFlow': #Skip this cell in case LINES == 'Capacity'\n",
    "    df_flow['LatMid'] = (df_flow['LatImp'] + df_flow['LatExp']) /2\n",
    "    df_flow['LonMid'] = (df_flow['LonImp'] + df_flow['LonExp']) /2\n",
    "if LINES == 'Capacity' or LINES == 'CongestionFlow': #Skip this cell in case LINES == 'Flow'\n",
    "    df_capacity['LatMid'] = (df_capacity['LatImp'] + df_capacity['LatExp']) /2\n",
    "    df_capacity['LonMid'] = (df_capacity['LonImp'] + df_capacity['LonExp']) /2"
   ]
  },
  {
   "cell_type": "markdown",
   "metadata": {},
   "source": [
    "# 3 Create Map Features"
   ]
  },
  {
   "cell_type": "markdown",
   "metadata": {},
   "source": [
    "### 3.1 Create map"
   ]
  },
  {
   "cell_type": "code",
   "execution_count": null,
   "metadata": {
    "jupyter": {
     "source_hidden": true
    }
   },
   "outputs": [],
   "source": [
    "#Create map \n",
    "map_center = [55.220228, 10.419778]\n",
    "m = folium.Map(location= map_center, zoom_start=5, tiles='')\n",
    "#Add background layers (sea, regions in model, countries outside of model)\n",
    "folium.Polygon(locations = [[-90,-180], [90,-180], [90,180], [-90,180]], color = background_colour, fill_color = background_colour, opacity = 1, fill_opacity = 1 ).add_to(m) #Background\n",
    "#folium.GeoJson(data = DE_shp)\n",
    "\n",
    "for region in layers_in: \n",
    "    folium.GeoJson(data = layers_in[region], name = 'regions_in', \\\n",
    "               style_function = lambda x:{'fillColor': regions_model_colour, 'fillOpacity': 0.5, 'color': regions_model_colour, 'weight':1}).add_to(m) #Regions within model\n",
    "for region in layers_out: \n",
    "    folium.GeoJson(data = layers_out[region], name = 'regions_out', \\\n",
    "                   style_function = lambda x:{'fillColor': regions_ext_colour, 'fillOpacity': 0.5, 'color': regions_ext_colour, 'weight':1}).add_to(m) #Neighbouring countries\n"
   ]
  },
  {
   "cell_type": "markdown",
   "metadata": {},
   "source": [
    "### 3.2 Create background hub size"
   ]
  },
  {
   "cell_type": "code",
   "execution_count": null,
   "metadata": {
    "jupyter": {
     "source_hidden": true
    }
   },
   "outputs": [],
   "source": [
    "if hub_display == True:\n",
    "    if background_hubsize == True:\n",
    "        if LINES == 'Capacity': \n",
    "            for i,row in df_hub.iterrows():\n",
    "                folium.Circle(\n",
    "                  location=[df_hub.loc[i,'Lat'], df_hub.loc[i,'Lon']],\n",
    "                  popup=df_hub.loc[i,'RRR'],\n",
    "                  radius = df_hub.loc[i,'Radius']*1000,\n",
    "                  color = hub_background_colour,\n",
    "                  opacity = 0,\n",
    "                  fill=True,\n",
    "                  fill_color = hub_background_colour,\n",
    "                  fill_opacity = hub_area_opacity\n",
    "               ).add_to(m)\n",
    "        if LINES == 'Flow' or LINES == 'CongestionFlow':\n",
    "            for i,row in df_hub.iterrows():\n",
    "                folium.Circle(\n",
    "                  location=[df_hub.loc[i,'Lat'], df_hub.loc[i,'Lon']],\n",
    "                  popup=df_hub.loc[i,'RRR'],\n",
    "                  radius = df_hub.loc[i,'Radius']*1000,\n",
    "                  color = hub_background_colour,\n",
    "                  opacity = 0,\n",
    "                  fill=True,\n",
    "                  fill_color = hub_background_colour,\n",
    "                  fill_opacity = hub_area_opacity\n",
    "               ).add_to(m)"
   ]
  },
  {
   "cell_type": "markdown",
   "metadata": {},
   "source": [
    "### 3.3 Add lines"
   ]
  },
  {
   "cell_type": "code",
   "execution_count": null,
   "metadata": {
    "jupyter": {
     "source_hidden": true
    }
   },
   "outputs": [],
   "source": [
    "#Add capacity lines\n",
    "if LINES == 'Capacity':\n",
    "    for i,row in df_capacity.iterrows():\n",
    "        folium.PolyLine(([df_capacity.loc[i,'LatExp'], df_capacity.loc[i,'LonExp']], \\\n",
    "                             [df_capacity.loc[i,'LatImp'],df_capacity.loc[i,'LonImp']]), \\\n",
    "                            color=capline_colour, line_cap = 'butt', weight=df_capacity.loc[i,'Val']/line_width_constant, opacity=1).add_to(m)  \n",
    "        if df_capacity.loc[i,'Val'] > label_min:\n",
    "            if line_decimals == 0:\n",
    "                folium.Marker(location=[df_capacity.loc[i,'LatMid'], df_capacity.loc[i,'LonMid']],\n",
    "                          icon=DivIcon(\n",
    "                              icon_size=(150,36), \n",
    "                                       icon_anchor=(11,7),\n",
    "                     html='<div style=\"font-size: {}pt; color : {}\">{}</div>'.format(font_line, line_text, \\\n",
    "                            df_capacity.loc[i,'Val'].round(line_decimals).astype(int)))).add_to(m)\n",
    "            else: \n",
    "                folium.Marker(location=[df_capacity.loc[i,'LatMid'], df_capacity.loc[i,'LonMid']],\n",
    "                          icon=DivIcon(\n",
    "                              icon_size=(150,36), \n",
    "                                       icon_anchor=(11,7),\n",
    "                     html='<div style=\"font-size: {}pt; color : {}\">{}</div>'.format(font_line, line_text, \\\n",
    "                            round(df_capacity.loc[i,'Val'],line_decimals)))).add_to(m)\n",
    "#Add flows (single colour)                \n",
    "if LINES == 'Flow':\n",
    "    attr = {'font-weight': 'bold', 'font-size': '24'}\n",
    "    for i,row in df_flow.iterrows():\n",
    "        flow = folium.PolyLine(([df_flow.loc[i,'LatExp'], df_flow.loc[i,'LonExp']], \\\n",
    "                             [df_flow.loc[i,'LatImp'],df_flow.loc[i,'LonImp']]), \\\n",
    "                            color=capline_colour, line_cap = 'butt', weight=df_flow.loc[i,'Val']/line_width_constant, opacity=1).add_to(m)   \n",
    "        plugins.PolyLineTextPath(flow, '\\u2192', repeat=False ,center = True, offset=6, orientation = -90, \\\n",
    "                                 attributes=attr).add_to(m)  #Arrow\n",
    "        if df_flow.loc[i,'Val'] > label_min:\n",
    "            if line_decimals == 0:\n",
    "                folium.Marker(location=[df_flow.loc[i,'LatMid'], df_flow.loc[i,'LonMid']],\n",
    "                          icon=DivIcon(\n",
    "                              icon_size=(150,36), \n",
    "                                       icon_anchor=(11,7),\n",
    "                     html='<div style=\"font-size: {}pt; color : {}\">{}</div>'.format(font_line, line_text, \\\n",
    "                            df_flow.loc[i,'Val'].round(line_decimals).astype(int)))).add_to(m)\n",
    "            else: \n",
    "                folium.Marker(location=[df_flow.loc[i,'LatMid'], df_flow.loc[i,'LonMid']],\n",
    "                          icon=DivIcon(\n",
    "                              icon_size=(150,36), \n",
    "                                       icon_anchor=(11,7),\n",
    "                     html='<div style=\"font-size: {}pt; color : {}\">{}</div>'.format(font_line, line_text, \\\n",
    "                            round(df_flow.loc[i,'Val'],line_decimals)))).add_to(m)    \n",
    "#Add flows (colour based on congestion)\n",
    "if LINES == 'CongestionFlow':\n",
    "    attr = {'font-weight': 'bold', 'font-size': '24'}\n",
    "    for i,row in df_flow.iterrows():\n",
    "        flow = folium.PolyLine(([df_flow.loc[i,'LatExp'], df_flow.loc[i,'LonExp']], \\\n",
    "                             [df_flow.loc[i,'LatImp'],df_flow.loc[i,'LonImp']]), \\\n",
    "                            color=df_flow.loc[i,'Colour'], line_cap = 'butt', weight=df_flow.loc[i,'Val']/line_width_constant, opacity=1).add_to(m)   \n",
    "        plugins.PolyLineTextPath(flow, '\\u2192', repeat=False ,center = True, offset=6, orientation = -90, \\\n",
    "                                 attributes=attr).add_to(m)  #Arrow\n",
    "        if df_flow.loc[i,'Val'] > label_min:\n",
    "            if line_decimals == 0:\n",
    "                folium.Marker(location=[df_flow.loc[i,'LatMid'], df_flow.loc[i,'LonMid']],\n",
    "                          icon=DivIcon(\n",
    "                              icon_size=(150,36), \n",
    "                                       icon_anchor=(11,7),\n",
    "                     html='<div style=\"font-size: {}pt; color : {}\">{}</div>'.format(font_line, line_text, \\\n",
    "                            df_flow.loc[i,'Val'].round(line_decimals).astype(int)))).add_to(m)\n",
    "            else: \n",
    "                folium.Marker(location=[df_flow.loc[i,'LatMid'], df_flow.loc[i,'LonMid']],\n",
    "                          icon=DivIcon(\n",
    "                              icon_size=(150,36), \n",
    "                                       icon_anchor=(11,7),\n",
    "                     html='<div style=\"font-size: {}pt; color : {}\">{}</div>'.format(font_line, line_text, \\\n",
    "                            round(df_flow.loc[i,'Val'],line_decimals)))).add_to(m)    "
   ]
  },
  {
   "cell_type": "markdown",
   "metadata": {},
   "source": [
    "### 3.4 Add region names"
   ]
  },
  {
   "cell_type": "code",
   "execution_count": null,
   "metadata": {
    "jupyter": {
     "source_hidden": true
    }
   },
   "outputs": [],
   "source": [
    "#Add region names\n",
    "for i,row in df_region.loc[df_region['Display']==1, ].iterrows():\n",
    "    folium.Marker(location=[df_region.loc[i,'Lat'], df_region.loc[i,'Lon']],\n",
    "                  icon=DivIcon(\n",
    "                      icon_size=(150,36), \n",
    "                               icon_anchor=(7,7),\n",
    "     html='<div style=\"font-size: {}pt; color : {}\">{}</div>'.format(font_region, region_text, df_region.loc[i,'RRR']))).add_to(m)  "
   ]
  },
  {
   "cell_type": "markdown",
   "metadata": {},
   "source": [
    "### 3.5 Add hubs"
   ]
  },
  {
   "cell_type": "code",
   "execution_count": null,
   "metadata": {
    "jupyter": {
     "source_hidden": true
    }
   },
   "outputs": [],
   "source": [
    "#Add hub capacities as bubbles\n",
    "if hub_display == True:\n",
    "    if LINES == 'Capacity': \n",
    "        for i,row in df_hub.iterrows():\n",
    "            folium.CircleMarker(\n",
    "              location=[df_hub.loc[i,'Lat'], df_hub.loc[i,'Lon']],\n",
    "              popup=df_hub.loc[i,'RRR'],\n",
    "              radius = hub_size,\n",
    "              color= hub_colour,\n",
    "              opacity = 0,\n",
    "              fill=True,\n",
    "              fill_color= hub_colour,\n",
    "              fill_opacity = 1\n",
    "           ).add_to(m)\n",
    "\n",
    "            if hub_decimals == 0:\n",
    "                folium.Marker(location=[df_hub.loc[i,'Lat'], df_hub.loc[i,'Lon']],\n",
    "                              icon=DivIcon(\n",
    "                                  icon_size=(150,36), \n",
    "                                           icon_anchor=(7,9),\n",
    "                 html='<div style=\"font-size: {}pt; color : {}\">{}</div>'.format(font_hub, hub_text, df_hub.loc[i,'Val'].round(hub_decimals).astype(int)))).add_to(m)\n",
    "            else:\n",
    "                folium.Marker(location=[df_hub.loc[i,'Lat'], df_hub.loc[i,'Lon']],\n",
    "                              icon=DivIcon(\n",
    "                                  icon_size=(150,36), \n",
    "                                           icon_anchor=(7,9),\n",
    "                 html='<div style=\"font-size: {}pt; color : {}\">{}</div>'.format(font_hub, hub_text, round(df_hub.loc[i,'Val'], hub_decimals)))).add_to(m)    \n",
    "\n",
    "    if LINES == 'Flow' or LINES == 'CongestionFlow':\n",
    "        for i,row in df_hub.iterrows():\n",
    "            folium.CircleMarker(\n",
    "              location=[df_hub.loc[i,'Lat'], df_hub.loc[i,'Lon']],\n",
    "              popup=df_hub.loc[i,'RRR'],\n",
    "              radius = hub_size,\n",
    "              color= hub_colour,\n",
    "              opacity = 0,\n",
    "              fill=True,\n",
    "              fill_color= hub_colour,\n",
    "              fill_opacity = 1\n",
    "           ).add_to(m)\n",
    "\n",
    "            if hub_decimals == 0:\n",
    "                folium.Marker(location=[df_hub.loc[i,'Lat'], df_hub.loc[i,'Lon']],\n",
    "                              icon=DivIcon(\n",
    "                                  icon_size=(150,36), \n",
    "                                           icon_anchor=(7,9),\n",
    "                 html='<div style=\"font-size: {}pt; color : {}\">{}</div>'.format(font_hub, hub_text, df_hub.loc[i,'prod_GWh'].round(hub_decimals).astype(int)))).add_to(m)\n",
    "            else:\n",
    "                folium.Marker(location=[df_hub.loc[i,'Lat'], df_hub.loc[i,'Lon']],\n",
    "                              icon=DivIcon(\n",
    "                                  icon_size=(150,36), \n",
    "                                           icon_anchor=(7,9),\n",
    "                 html='<div style=\"font-size: {}pt; color : {}\">{}</div>'.format(font_hub, hub_text, round(df_hub.loc[i,'prod_GWh'], hub_decimals)))).add_to(m)    \n"
   ]
  },
  {
   "cell_type": "markdown",
   "metadata": {},
   "source": [
    "### 3.6 Add Legend"
   ]
  },
  {
   "cell_type": "code",
   "execution_count": null,
   "metadata": {
    "jupyter": {
     "source_hidden": true
    }
   },
   "outputs": [],
   "source": [
    "if LINES == 'CongestionFlow':\n",
    "    from branca.element import Template, MacroElement\n",
    "\n",
    "    template = \"\"\"\n",
    "    {% macro html(this, kwargs) %}\n",
    "\n",
    "    <!doctype html>\n",
    "    <html lang=\"en\">\n",
    "    <head>\n",
    "      <meta charset=\"utf-8\">\n",
    "      <meta name=\"viewport\" content=\"width=device-width, initial-scale=1\">\n",
    "      <title>jQuery UI Draggable - Default functionality</title>\n",
    "      <link rel=\"stylesheet\" href=\"//code.jquery.com/ui/1.12.1/themes/base/jquery-ui.css\">\n",
    "\n",
    "      <script src=\"https://code.jquery.com/jquery-1.12.4.js\"></script>\n",
    "      <script src=\"https://code.jquery.com/ui/1.12.1/jquery-ui.js\"></script>\n",
    "\n",
    "      <script>\n",
    "      $( function() {\n",
    "        $( \"#maplegend\" ).draggable({\n",
    "                        start: function (event, ui) {\n",
    "                            $(this).css({\n",
    "                                right: \"auto\",\n",
    "                                top: \"auto\",\n",
    "                                bottom: \"auto\"\n",
    "                            });\n",
    "                        }\n",
    "                    });\n",
    "    });\n",
    "\n",
    "      </script>\n",
    "    </head>\n",
    "    <body>\n",
    "\n",
    "\n",
    "    <div id='maplegend' class='maplegend' \n",
    "        style='position: absolute; z-index:9999; border:2px solid grey; background-color:rgba(255, 255, 255, 1);\n",
    "         border-radius:6px; padding: 10px; font-size:14px; right: 20px; bottom: 20px;'>\n",
    "\n",
    "    <div class='legend-title'>Congestion rate</div>\n",
    "    <div class='legend-scale'>\n",
    "      <ul class='legend-labels'>\n",
    "        <li><span style='background:#960028;opacity:0.7;'></span>Fully congested</li>\n",
    "        <li><span style='background:#feb24c;opacity:0.7;'></span> 50-95% congested </li>\n",
    "        <li><span style='background:#3D9200;opacity:0.7;'></span> <50 % congested </li>\n",
    "\n",
    "      </ul>\n",
    "    </div>\n",
    "    </div>\n",
    "\n",
    "    </body>\n",
    "    </html>\n",
    "\n",
    "    <style type='text/css'>\n",
    "      .maplegend .legend-title {\n",
    "        text-align: left;\n",
    "        margin-bottom: 5px;\n",
    "        font-weight: bold;\n",
    "        font-size: 90%;\n",
    "        }\n",
    "      .maplegend .legend-scale ul {\n",
    "        margin: 0;\n",
    "        margin-bottom: 5px;\n",
    "        padding: 0;\n",
    "        float: left;\n",
    "        list-style: none;\n",
    "        }\n",
    "      .maplegend .legend-scale ul li {\n",
    "        font-size: 80%;\n",
    "        list-style: none;\n",
    "        margin-left: 0;\n",
    "        line-height: 18px;\n",
    "        margin-bottom: 2px;\n",
    "        }\n",
    "      .maplegend ul.legend-labels li span {\n",
    "        display: block;\n",
    "        float: left;\n",
    "        height: 16px;\n",
    "        width: 30px;\n",
    "        margin-right: 5px;\n",
    "        margin-left: 0;\n",
    "        border: 1px solid #999;\n",
    "        }\n",
    "      .maplegend .legend-source {\n",
    "        font-size: 80%;\n",
    "        color: #777;\n",
    "        clear: both;\n",
    "        }\n",
    "      .maplegend a {\n",
    "        color: #777;\n",
    "        }\n",
    "    </style>\n",
    "    {% endmacro %}\"\"\"\n",
    "\n",
    "    macro = MacroElement()\n",
    "    macro._template = Template(template)\n",
    "\n",
    "    m.get_root().add_child(macro)"
   ]
  },
  {
   "cell_type": "markdown",
   "metadata": {},
   "source": [
    "### 4 Save Output"
   ]
  },
  {
   "cell_type": "code",
   "execution_count": null,
   "metadata": {
    "jupyter": {
     "source_hidden": true
    }
   },
   "outputs": [],
   "source": [
    "# Make Transmission_Map output folder\n",
    "if not os.path.isdir('output/Transmission_Map/' + LINES + '/' + SCENARIO + '/' + market):\n",
    "    os.makedirs('output/Transmission_Map/' + LINES + '/' + SCENARIO + '/' + market)"
   ]
  },
  {
   "cell_type": "code",
   "execution_count": null,
   "metadata": {
    "jupyter": {
     "source_hidden": true
    }
   },
   "outputs": [],
   "source": [
    "output_dir = 'output/Transmission_Map/' + LINES + '/' + SCENARIO + '/' + market\n",
    "m.save(output_dir + '/' +  map_name)"
   ]
  },
  {
   "cell_type": "markdown",
   "metadata": {},
   "source": [
    "### 5 Display Map"
   ]
  },
  {
   "cell_type": "code",
   "execution_count": null,
   "metadata": {},
   "outputs": [],
   "source": [
    "m"
   ]
  },
  {
   "cell_type": "code",
   "execution_count": null,
   "metadata": {},
   "outputs": [],
   "source": []
  }
 ],
 "metadata": {
  "kernelspec": {
   "display_name": "Python 3",
   "language": "python",
   "name": "python3"
  },
  "language_info": {
   "codemirror_mode": {
    "name": "ipython",
    "version": 3
   },
   "file_extension": ".py",
   "mimetype": "text/x-python",
   "name": "python",
   "nbconvert_exporter": "python",
   "pygments_lexer": "ipython3",
   "version": "3.8.3"
  }
 },
 "nbformat": 4,
 "nbformat_minor": 4
}
