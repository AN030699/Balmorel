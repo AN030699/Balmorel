{
 "cells": [
  {
   "cell_type": "markdown",
   "metadata": {},
   "source": [
    "# Test Runs for Merging Changes\n",
    "\n",
    "This notebook is used for testing changes made to the master branch, by running the models in base/model (which should be identical to the master branch) and changes/model (which should be the model run with your changes) \n",
    "\n",
    "Please follow the procedure described in the [readme](../../../README.md), and be critical if the tests performed here is enough to verify and validate the changes made. Furthermore, note the following:\n",
    "- Make sure that the choice of addons is comparable, unless the change is a new addon\n",
    "- If the changes are in files that by default are loaded in the base scenario (such as addons) you will need to apply the changes through options. Or, more simply, run the four tests manually in other folders and copy+paste the relevant MainResults to the paths expected by this script and append _lowtemphighspace and _hightemplowspace to the respective files. Skip to the analysis section below in that case.\n",
    "- If a GamsExecutionError occur in the cell running Balmorel, check the _gams_py_gjo0.lst file, or maybe try to run the scenario in GAMS studio for easier debugging\n",
    "- All tests may take around 20 minutes.\n",
    "\n",
    "The [pybalmorel](https://pypi.org/project/pybalmorel/) package is required to run this notebook. In a terminal, create a new python environment, activate it and install version 0.2.2 by running the following command:\n",
    "```\n",
    "pip install pybalmorel==0.2.2\n",
    "```\n",
    "Documentation on creating and activating virtual environments for standalone python can be found [here](https://docs.python.org/3/library/venv.html) and for a conda installation [here](https://docs.conda.io/projects/conda/en/latest/user-guide/tasks/manage-environments.html)"
   ]
  },
  {
   "cell_type": "code",
   "execution_count": 101,
   "metadata": {},
   "outputs": [],
   "source": [
    "from pybalmorel import MainResults, IncFile\n",
    "from gams import GamsWorkspace\n",
    "import pandas as pd\n",
    "import numpy as np\n",
    "import os\n",
    "\n",
    "## Scenario and test case names\n",
    "scenarios = ['base', 'changes']\n",
    "test_cases = ['lowtemphighspace', 'hightemplowspace']"
   ]
  },
  {
   "cell_type": "markdown",
   "metadata": {},
   "source": [
    "## Run Balmorel\n",
    "\n",
    "The following section runs the base and changes scenario at different resolutions:\n",
    "1. Low temporal resolution (Two seasons with four hours each) and high spatial resolution (the existing resolution in each C file)\n",
    "2. High temporal resolution (Four seasons with all hours) and low spatial resolution (only Denmark and Norway) "
   ]
  },
  {
   "cell_type": "code",
   "execution_count": null,
   "metadata": {},
   "outputs": [],
   "source": [
    "### 1.0 Prepare .inc-file formats for test cases\n",
    "C = IncFile(name='C',\n",
    "            prefix=\"SET C(CCC)  'Countries in the simulation'\\n/\\n\",\n",
    "            suffix=\"\\n/;\",\n",
    "            )\n",
    "Y = IncFile(name='Y',\n",
    "            prefix=\"SET  Y(YYY) 'Years in the simulation'\\n/\\n\",\n",
    "            suffix=\"\\n/;\",\n",
    "            )\n",
    "S = IncFile(name='S',\n",
    "            prefix=\"SET S(SSS)  'Seasons in the simulation'\\n/\\n\",\n",
    "            suffix=\"\\n/;\",\n",
    "            )\n",
    "T = IncFile(name='T',\n",
    "            prefix=\"SET T(TTT)  'Time periods within a season in the simulation'\\n/\\n\",\n",
    "            suffix=\"\\n/;\",\n",
    "            )\n",
    "\n",
    "### 1.1 Running Balmorel Test Cases\n",
    "for scenario in scenarios:\n",
    "    for test_case in test_cases:\n",
    "        \n",
    "        # Set resolutions\n",
    "        C.path ='../../../%s/data'%scenario\n",
    "        Y.path ='../../../%s/data'%scenario\n",
    "        S.path ='../../../%s/data'%scenario\n",
    "        T.path ='../../../%s/data'%scenario\n",
    "        if test_case == 'lowtemphighspace':\n",
    "            # keep the country resolution of the base and change in this case\n",
    "            Y.body = \"2030, 2050\"\n",
    "            S.body = \"S01, S26\"\n",
    "            T.body = \"T073, T079, T085, T091\"\n",
    "            \n",
    "            # rename original temporal .inc-files so they're not lost\n",
    "            try:\n",
    "                os.rename('../../../%s/data/Y.inc'%scenario,\n",
    "                        '../../../%s/data/Y_old.inc'%scenario)\n",
    "                os.rename('../../../%s/data/S.inc'%scenario,\n",
    "                        '../../../%s/data/S_old.inc'%scenario)\n",
    "                os.rename('../../../%s/data/T.inc'%scenario,\n",
    "                        '../../../%s/data/T_old.inc'%scenario)\n",
    "            except (FileNotFoundError, FileExistsError):\n",
    "                print('Possibly already renamed old resolution .inc-files')\n",
    "                \n",
    "        elif test_case == 'hightemplowspace':\n",
    "            C.body = \"DENMARK, NORWAY\"\n",
    "            Y.body = \"2030, 2050\"\n",
    "            S.body = \"S01, S14, S27, S40\"\n",
    "            T.body = \"T001*T168\"\n",
    "            \n",
    "            # rename original C .inc-file so it's not lost\n",
    "            try:\n",
    "                os.rename('../../../%s/data/C.inc'%scenario,\n",
    "                        '../../../%s/data/C_old.inc'%scenario)\n",
    "            except (FileNotFoundError, FileExistsError):\n",
    "                print('Possibly already renamed old resolution .inc-files')\n",
    "                \n",
    "            C.save()\n",
    "        Y.save()\n",
    "        S.save()\n",
    "        T.save()\n",
    "        \n",
    "        # Run Balmorel\n",
    "        ws = GamsWorkspace(working_directory='../../../%s/model'%scenario)\n",
    "\n",
    "        job = ws.add_job_from_file(os.path.join(os.path.abspath('../../../%s/model'%scenario), 'Balmorel'))\n",
    "        out = job.run()\n",
    "        \n",
    "        # Check feasibility\n",
    "        with open('../../../%s/model/_gams_py_gjo0.lst'%scenario, 'r') as f:\n",
    "            output = pd.Series(f.readlines())\n",
    "\n",
    "        output = output[output.str.find('LP status') != -1] # Find all status\n",
    "        all_feasible = output[output.str.find('infeasible') != -1].empty # Check if none are infeasible\n",
    "        if not(all_feasible):\n",
    "            raise Exception('Model run infeasible!')\n",
    "        \n",
    "        # Rename MainResults\n",
    "        try:\n",
    "            os.rename('../../../%s/model/MainResults.gdx'%scenario,\n",
    "                    '../../../%s/model/MainResults_%s.gdx'%(scenario, test_case))\n",
    "        except FileExistsError:\n",
    "            print('Previous run existed, overwriting')\n",
    "            os.replace('../../../%s/model/MainResults.gdx'%scenario,\n",
    "                    '../../../%s/model/MainResults_%s.gdx'%(scenario, test_case))\n",
    "        "
   ]
  },
  {
   "cell_type": "markdown",
   "metadata": {},
   "source": [
    "## Analysis\n",
    "\n",
    "General results are compared between scenarios for each test case and KPI's are calculated on production of commodities and capacities. "
   ]
  },
  {
   "cell_type": "code",
   "execution_count": 30,
   "metadata": {},
   "outputs": [
    {
     "name": "stdout",
     "output_type": "stream",
     "text": [
      "--- Warning: The GAMS version (45.5.0) differs from the API version (45.7.0).\n"
     ]
    }
   ],
   "source": [
    "scenarios = ['base', 'base_changes']\n",
    "\n",
    "### 2.0 Load Results\n",
    "mr = MainResults(files=['MainResults_%s.gdx'%test_case for test_case in test_cases]*2,\n",
    "                 paths=['../../../%s/model'%scenario for scenario in scenarios for i in range(2) ],\n",
    "                 scenario_names=['%s_%s'%(scenario, test_case) for scenario in scenarios for test_case in test_cases])"
   ]
  },
  {
   "cell_type": "code",
   "execution_count": 93,
   "metadata": {},
   "outputs": [
    {
     "name": "stdout",
     "output_type": "stream",
     "text": [
      "All production [TWh]:\n",
      "---------------------\n",
      " Scenario  base_changes_hightemplowspace                        base_changes_lowtemphighspace                        base_hightemplowspace                       base_lowtemphighspace                      \n",
      "Commodity                   ELECTRICITY        HEAT   HYDROGEN                   ELECTRICITY        HEAT   HYDROGEN           ELECTRICITY       HEAT   HYDROGEN           ELECTRICITY       HEAT   HYDROGEN\n",
      "Year                                                                                                                                                                                                       \n",
      "2030                                NaN         NaN        NaN                    204.885725  141.036449  31.666812                   NaN        NaN        NaN            146.877826  97.535908   7.353390\n",
      "2050                         251.124885  140.016999  53.919089                    246.528420  143.795472  52.446507            180.074473  95.697868  30.731138            179.786263  97.253493  30.801129 \n",
      "\n",
      "\n",
      "Difference in production in TWh between base and base_changes in for lowtemphighspace \n",
      "-------------------------------------------------------------\n",
      "\n",
      "Commodity  ELECTRICITY       HEAT   HYDROGEN\n",
      "Year                                        \n",
      "2030         58.007899  43.500540  24.313422\n",
      "2050         66.742156  46.541979  21.645378\n",
      "\n",
      "\n",
      "Difference in production in TWh between base and base_changes in for hightemplowspace \n",
      "-------------------------------------------------------------\n",
      "\n",
      "Commodity  ELECTRICITY       HEAT   HYDROGEN\n",
      "Year                                        \n",
      "2030               NaN        NaN        NaN\n",
      "2050         71.050412  44.319131  23.187951\n",
      "\n"
     ]
    }
   ],
   "source": [
    "### 2.1 Calculate Difference in capduction \n",
    "pro = mr.get_result('PRO_YCRAGF').pivot_table(index='Year',\n",
    "                                              columns=['Scenario', 'Commodity'],\n",
    "                                              values='Value',\n",
    "                                              aggfunc='sum')\n",
    "\n",
    "print('All production [TWh]:\\n---------------------\\n', pro.to_string(), '\\n')\n",
    "for test_case in test_cases:\n",
    "    print('\\nDifference in production in TWh between %s and %s in for %s'%tuple(scenarios + [test_case]),\n",
    "          '\\n-------------------------------------------------------------\\n')\n",
    "    print((pro['%s_%s'%(scenarios[1], test_case)] - pro['%s_%s'%(scenarios[0], test_case)]).to_string() + '\\n')"
   ]
  },
  {
   "cell_type": "code",
   "execution_count": 112,
   "metadata": {},
   "outputs": [
    {
     "name": "stdout",
     "output_type": "stream",
     "text": [
      "All generation capacities [GW]:\n",
      "-------------------------------\n",
      " Scenario  base_changes_hightemplowspace                      base_changes_lowtemphighspace                      base_hightemplowspace                                  base_lowtemphighspace                                 \n",
      "Commodity                   ELECTRICITY       HEAT  HYDROGEN                   ELECTRICITY       HEAT  HYDROGEN            BIOMETHANE ELECTRICITY       HEAT  HYDROGEN            BIOMETHANE ELECTRICITY       HEAT  HYDROGEN\n",
      "Year                                                                                                                                                                                                                         \n",
      "2030                           0.000000   0.000000  0.000000                      62.22878  27.296902  4.084225                   0.0    0.000000   0.000000  0.000000                   0.0   35.418515  17.154851  0.877514\n",
      "2050                          92.052875  30.571459  7.951106                      84.53370  25.208215  7.378618                   0.0   54.292423  20.573951  4.317686                   0.0   52.441727  16.601460  4.571381 \n",
      "\n",
      "\n",
      "Difference in generation capacities in GW between base and base_changes in for lowtemphighspace: \n",
      "-------------------------------------------------------------\n",
      "Commodity  BIOMETHANE  ELECTRICITY       HEAT  HYDROGEN\n",
      "Year                                                   \n",
      "2030              NaN    26.810265  10.142051  3.206710\n",
      "2050              NaN    32.091973   8.606754  2.807238\n",
      "\n",
      "\n",
      "Difference in generation capacities in GW between base and base_changes in for hightemplowspace: \n",
      "-------------------------------------------------------------\n",
      "Commodity  BIOMETHANE  ELECTRICITY      HEAT  HYDROGEN\n",
      "Year                                                  \n",
      "2030              NaN     0.000000  0.000000   0.00000\n",
      "2050              NaN    37.760452  9.997508   3.63342\n",
      "\n"
     ]
    }
   ],
   "source": [
    "### 2.2 Calculate Difference in Generation Capacities\n",
    "cap = mr.get_result('G_CAP_YCRAF')\n",
    "cap = cap[(cap.Technology != 'INTRASEASONAL-ELECT-STORAGE') &\\\n",
    "        (cap.Technology != 'INTRASEASONAL-HEAT-STORAGE') &\\\n",
    "        (cap.Technology != 'INTERSEASONAL-HEAT-STORAGE') &\\\n",
    "        (cap.Technology != 'H2-STORAGE')].pivot_table(index='Year',\n",
    "                                                            columns=['Scenario', 'Commodity'],\n",
    "                                                            values='Value',\n",
    "                                                            aggfunc='sum').fillna(0)\n",
    "\n",
    "print('All generation capacities [GW]:\\n-------------------------------\\n', cap.to_string(), '\\n')\n",
    "for test_case in test_cases:\n",
    "    print('\\nDifference in generation capacities in GW between %s and %s in for %s:'%tuple(scenarios + [test_case]),\n",
    "          '\\n-------------------------------------------------------------')\n",
    "    print((cap['%s_%s'%(scenarios[1], test_case)] - cap['%s_%s'%(scenarios[0], test_case)]).to_string() + '\\n')"
   ]
  },
  {
   "cell_type": "code",
   "execution_count": 109,
   "metadata": {},
   "outputs": [
    {
     "name": "stdout",
     "output_type": "stream",
     "text": [
      "All storage capacities [GWh]:\n",
      "-----------------------------\n",
      " Scenario  base_changes_hightemplowspace                         base_changes_lowtemphighspace                         base_hightemplowspace             base_lowtemphighspace            \n",
      "Commodity                   ELECTRICITY        HEAT    HYDROGEN                   ELECTRICITY        HEAT    HYDROGEN           ELECTRICITY        HEAT           ELECTRICITY        HEAT\n",
      "Year                                                                                                                                                                                     \n",
      "2030                                0.0    0.000000    0.000000                       82224.0  395.604526  238.621993                   0.0    0.000000               82224.0  671.524689\n",
      "2050                            82224.0  500.063685  342.978697                       82224.0  550.614625  238.621993               82224.0  263.948093               82224.0  692.441894 \n",
      "\n",
      "\n",
      "Difference in storage capacities in GWh between base and base_changes in for lowtemphighspace: \n",
      "-------------------------------------------------------------\n",
      "Commodity  ELECTRICITY        HEAT  HYDROGEN\n",
      "Year                                        \n",
      "2030               0.0 -275.920163       NaN\n",
      "2050               0.0 -141.827269       NaN\n",
      "\n",
      "\n",
      "Difference in storage capacities in GWh between base and base_changes in for hightemplowspace: \n",
      "-------------------------------------------------------------\n",
      "Commodity  ELECTRICITY        HEAT  HYDROGEN\n",
      "Year                                        \n",
      "2030               0.0    0.000000       NaN\n",
      "2050               0.0  236.115593       NaN\n",
      "\n"
     ]
    }
   ],
   "source": [
    "### 2.3 Calculate Difference in Storage Capacities\n",
    "cap = mr.get_result('G_STO_YCRAF').pivot_table(index='Year',\n",
    "                                        columns=['Scenario', 'Commodity'],\n",
    "                                        values='Value',\n",
    "                                        aggfunc='sum').fillna(0)\n",
    "\n",
    "print('All storage capacities [GWh]:\\n-----------------------------\\n', cap.to_string(), '\\n')\n",
    "for test_case in test_cases:\n",
    "    print('\\nDifference in storage capacities in GWh between %s and %s in for %s:'%tuple(scenarios + [test_case]),\n",
    "          '\\n-------------------------------------------------------------')\n",
    "    print((cap['%s_%s'%(scenarios[1], test_case)] - cap['%s_%s'%(scenarios[0], test_case)]).to_string() + '\\n')"
   ]
  },
  {
   "cell_type": "code",
   "execution_count": 110,
   "metadata": {},
   "outputs": [
    {
     "name": "stdout",
     "output_type": "stream",
     "text": [
      "All electricity transmission capacities [GW]:\n",
      "---------------------------------------------\n",
      " Scenario  base_changes_hightemplowspace  base_changes_lowtemphighspace  base_hightemplowspace  base_lowtemphighspace\n",
      "Year                                                                                                                \n",
      "2030                            0.00000                      11.077000               0.000000              15.069722\n",
      "2050                           18.98553                      14.256002              15.986844              15.069722 \n",
      "\n",
      "\n",
      "Difference in electricity transmission capacities in GW between base and base_changes in for lowtemphighspace: \n",
      "-------------------------------------------------------------\n",
      "Year\n",
      "2030   -3.992722\n",
      "2050   -0.813720\n",
      "\n",
      "\n",
      "Difference in electricity transmission capacities in GW between base and base_changes in for hightemplowspace: \n",
      "-------------------------------------------------------------\n",
      "Year\n",
      "2030    0.000000\n",
      "2050    2.998686\n",
      "\n"
     ]
    }
   ],
   "source": [
    "### 2.4 Calculate Difference in Transmission Capacities\n",
    "cap = mr.get_result('X_CAP_YCR').pivot_table(index='Year',\n",
    "                                        columns=['Scenario'],\n",
    "                                        values='Value',\n",
    "                                        aggfunc=lambda x: np.sum(x)/2).fillna(0) # Remember to divide by two\n",
    "\n",
    "print('All electricity transmission capacities [GW]:\\n---------------------------------------------\\n', cap.to_string(), '\\n')\n",
    "for test_case in test_cases:\n",
    "    print('\\nDifference in electricity transmission capacities in GW between %s and %s in for %s:'%tuple(scenarios + [test_case]),\n",
    "          '\\n-------------------------------------------------------------')\n",
    "    print((cap['%s_%s'%(scenarios[1], test_case)] - cap['%s_%s'%(scenarios[0], test_case)]).to_string() + '\\n')"
   ]
  }
 ],
 "metadata": {
  "kernelspec": {
   "display_name": "Python (.BAF-Env)",
   "language": "python",
   "name": ".baf-env"
  },
  "language_info": {
   "codemirror_mode": {
    "name": "ipython",
    "version": 3
   },
   "file_extension": ".py",
   "mimetype": "text/x-python",
   "name": "python",
   "nbconvert_exporter": "python",
   "pygments_lexer": "ipython3",
   "version": "3.9.11"
  }
 },
 "nbformat": 4,
 "nbformat_minor": 2
}
