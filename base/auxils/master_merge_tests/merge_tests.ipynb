{
 "cells": [
  {
   "cell_type": "markdown",
   "metadata": {},
   "source": [
    "# Test Runs for Merging Changes\n",
    "\n",
    "This notebook is used for testing changes made to the master branch, by running the models in base/model (which should be identical to the master branch) and change/model (which should be the model run with your changes) \n",
    "\n",
    "Please follow the procedure described in the [readme](../../../README.md)!\n",
    "\n",
    "The [pybalmorel](https://pypi.org/project/pybalmorel/) package is required to run this notebook. In a terminal, create a new python environment, activate it and install version 0.2.2 by running the following command:\n",
    "```\n",
    "pip install pybalmorel==0.2.2\n",
    "```\n",
    "Documentation on creating and activating virtual environments for standalone python can be found [here](https://docs.python.org/3/library/venv.html) and for a conda installation [here](https://docs.conda.io/projects/conda/en/latest/user-guide/tasks/manage-environments.html)"
   ]
  },
  {
   "cell_type": "code",
   "execution_count": null,
   "metadata": {},
   "outputs": [],
   "source": [
    "from pybalmorel import MainResults\n",
    "from gams import GamsWorkspace\n",
    "import os\n",
    "\n",
    "### 1.1 Running Balmorel\n",
    "scenarios = ['base', 'changes']\n",
    "for scenario in scenarios:\n",
    "    ws = GamsWorkspace(working_directory='../../../%s/model'%scenario)\n",
    "\n",
    "    job = ws.add_job_from_file(os.path.join(os.path.abspath('../../../%s/model'%scenario), 'Balmorel'))\n",
    "    out = job.run()"
   ]
  },
  {
   "cell_type": "code",
   "execution_count": null,
   "metadata": {},
   "outputs": [],
   "source": [
    "### 1.2 Load Results\n",
    "mr = MainResults(files=['MainResults.gdx']*2,\n",
    "                 paths=['../../../%s/model'%scenario for scenario in scenarios])"
   ]
  }
 ],
 "metadata": {
  "kernelspec": {
   "display_name": "Python (.BAF-Env)",
   "language": "python",
   "name": ".baf-env"
  },
  "language_info": {
   "codemirror_mode": {
    "name": "ipython",
    "version": 3
   },
   "file_extension": ".py",
   "mimetype": "text/x-python",
   "name": "python",
   "nbconvert_exporter": "python",
   "pygments_lexer": "ipython3",
   "version": "3.9.11"
  }
 },
 "nbformat": 4,
 "nbformat_minor": 2
}
